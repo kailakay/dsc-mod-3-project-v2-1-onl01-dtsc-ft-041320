{
 "cells": [
  {
   "cell_type": "code",
   "execution_count": 1,
   "metadata": {},
   "outputs": [],
   "source": [
    "import pandas as pd"
   ]
  },
  {
   "cell_type": "code",
   "execution_count": 2,
   "metadata": {},
   "outputs": [],
   "source": [
    "county_df = pd.read_csv('data/county_info.csv')"
   ]
  },
  {
   "cell_type": "markdown",
   "metadata": {},
   "source": [
    "# County Financial DF"
   ]
  },
  {
   "cell_type": "code",
   "execution_count": 3,
   "metadata": {},
   "outputs": [
    {
     "data": {
      "text/html": [
       "<div>\n",
       "<style scoped>\n",
       "    .dataframe tbody tr th:only-of-type {\n",
       "        vertical-align: middle;\n",
       "    }\n",
       "\n",
       "    .dataframe tbody tr th {\n",
       "        vertical-align: top;\n",
       "    }\n",
       "\n",
       "    .dataframe thead th {\n",
       "        text-align: right;\n",
       "    }\n",
       "</style>\n",
       "<table border=\"1\" class=\"dataframe\">\n",
       "  <thead>\n",
       "    <tr style=\"text-align: right;\">\n",
       "      <th></th>\n",
       "      <th>number</th>\n",
       "      <th>county</th>\n",
       "      <th>State</th>\n",
       "      <th>per capita income</th>\n",
       "      <th>median household income</th>\n",
       "      <th>median family income</th>\n",
       "      <th>population</th>\n",
       "      <th>number of households</th>\n",
       "    </tr>\n",
       "  </thead>\n",
       "  <tbody>\n",
       "    <tr>\n",
       "      <th>0</th>\n",
       "      <td>1</td>\n",
       "      <td>New York County</td>\n",
       "      <td>New York</td>\n",
       "      <td>$62,498</td>\n",
       "      <td>$69,659</td>\n",
       "      <td>$84,627</td>\n",
       "      <td>1,605,272</td>\n",
       "      <td>736,192</td>\n",
       "    </tr>\n",
       "    <tr>\n",
       "      <th>1</th>\n",
       "      <td>2</td>\n",
       "      <td>Arlington</td>\n",
       "      <td>Virginia</td>\n",
       "      <td>$62,018</td>\n",
       "      <td>$103,208</td>\n",
       "      <td>$139,244</td>\n",
       "      <td>214,861</td>\n",
       "      <td>94,454</td>\n",
       "    </tr>\n",
       "    <tr>\n",
       "      <th>2</th>\n",
       "      <td>3</td>\n",
       "      <td>Falls Church City</td>\n",
       "      <td>Virginia</td>\n",
       "      <td>$59,088</td>\n",
       "      <td>$120,000</td>\n",
       "      <td>$152,857</td>\n",
       "      <td>12,731</td>\n",
       "      <td>5,020</td>\n",
       "    </tr>\n",
       "    <tr>\n",
       "      <th>3</th>\n",
       "      <td>4</td>\n",
       "      <td>Marin</td>\n",
       "      <td>California</td>\n",
       "      <td>$56,791</td>\n",
       "      <td>$90,839</td>\n",
       "      <td>$117,357</td>\n",
       "      <td>254,643</td>\n",
       "      <td>102,912</td>\n",
       "    </tr>\n",
       "    <tr>\n",
       "      <th>4</th>\n",
       "      <td>5</td>\n",
       "      <td>Alexandria City</td>\n",
       "      <td>Virginia</td>\n",
       "      <td>$54,608</td>\n",
       "      <td>$85,706</td>\n",
       "      <td>$107,511</td>\n",
       "      <td>143,684</td>\n",
       "      <td>65,369</td>\n",
       "    </tr>\n",
       "  </tbody>\n",
       "</table>\n",
       "</div>"
      ],
      "text/plain": [
       "  number             county       State per capita income  \\\n",
       "0      1    New York County    New York          $62,498    \n",
       "1      2          Arlington    Virginia          $62,018    \n",
       "2      3  Falls Church City    Virginia          $59,088    \n",
       "3      4              Marin  California          $56,791    \n",
       "4      5    Alexandria City    Virginia          $54,608    \n",
       "\n",
       "  median household income median family income population number of households  \n",
       "0                $69,659              $84,627   1,605,272              736,192  \n",
       "1               $103,208             $139,244     214,861               94,454  \n",
       "2               $120,000             $152,857      12,731                5,020  \n",
       "3                $90,839             $117,357     254,643              102,912  \n",
       "4                $85,706             $107,511     143,684               65,369  "
      ]
     },
     "execution_count": 3,
     "metadata": {},
     "output_type": "execute_result"
    }
   ],
   "source": [
    "county_df.head()"
   ]
  },
  {
   "cell_type": "code",
   "execution_count": 4,
   "metadata": {},
   "outputs": [
    {
     "name": "stdout",
     "output_type": "stream",
     "text": [
      "shape\n",
      "(3233, 8)\n",
      "----------------------------------------\n"
     ]
    },
    {
     "data": {
      "text/plain": [
       "Index(['number', 'county', 'State', 'per capita income',\n",
       "       'median household income', 'median family income', 'population',\n",
       "       'number of households'],\n",
       "      dtype='object')"
      ]
     },
     "execution_count": 4,
     "metadata": {},
     "output_type": "execute_result"
    }
   ],
   "source": [
    "print('shape')\n",
    "print(county_df.shape)\n",
    "print('-' *40)\n",
    "county_df.columns"
   ]
  },
  {
   "cell_type": "code",
   "execution_count": 5,
   "metadata": {},
   "outputs": [
    {
     "data": {
      "text/plain": [
       "array(['New York', 'Virginia', 'California', 'Colorado', 'New Mexico',\n",
       "       'New Jersey', 'Texas', 'Maryland', 'Connecticut', 'Massachusetts',\n",
       "       'Alaska', 'Hawaii', 'District of Columbia', 'Wyoming', 'Utah',\n",
       "       'Pennsylvania', 'Wisconsin', 'Tennessee', 'Rhode Island', 'Ohio',\n",
       "       'Washington', 'Indiana', 'Kansas', 'North Dakota', 'Illinois',\n",
       "       'New Hampshire', 'Minnesota', 'Florida', 'Georgia', 'Michigan',\n",
       "       'South Dakota', 'Iowa', 'Idaho', 'Missouri', 'North Carolina',\n",
       "       'Nevada', 'Kentucky', 'Alabama', 'Vermont', 'Mississippi',\n",
       "       'Montana', 'Maine', 'Oregon', 'South Carolina', 'Delaware',\n",
       "       'Nebraska', 'Louisiana', 'West Virginia', 'Oklahoma', 'Arkansas',\n",
       "       'Arizona', 'U.S. Virgin Islands', 'Puerto Rico', nan, 'Guam',\n",
       "       'Northern Mariana Islands', 'American Samoa'], dtype=object)"
      ]
     },
     "execution_count": 5,
     "metadata": {},
     "output_type": "execute_result"
    }
   ],
   "source": [
    "county_df['State'].unique()"
   ]
  },
  {
   "cell_type": "code",
   "execution_count": 6,
   "metadata": {},
   "outputs": [],
   "source": [
    "states_drop = ['Guam', 'Northern Mariana Islands', 'American Samoa', \n",
    "               'U.S. Virgin Islands', 'Puerto Rico', 'Alaska', 'Hawaii']"
   ]
  },
  {
   "cell_type": "code",
   "execution_count": 7,
   "metadata": {},
   "outputs": [],
   "source": [
    "county_df = county_df[~county_df['State'].isin(states_drop)]"
   ]
  },
  {
   "cell_type": "markdown",
   "metadata": {},
   "source": [
    "## Investigate and address nulls"
   ]
  },
  {
   "cell_type": "code",
   "execution_count": 8,
   "metadata": {},
   "outputs": [
    {
     "data": {
      "text/plain": [
       "3111"
      ]
     },
     "execution_count": 8,
     "metadata": {},
     "output_type": "execute_result"
    }
   ],
   "source": [
    "county_df['number'].nunique()"
   ]
  },
  {
   "cell_type": "markdown",
   "metadata": {},
   "source": [
    "- Unnecessary column "
   ]
  },
  {
   "cell_type": "code",
   "execution_count": 9,
   "metadata": {},
   "outputs": [],
   "source": [
    "county_df.drop(columns='number', axis=1, inplace=True)"
   ]
  },
  {
   "cell_type": "code",
   "execution_count": 10,
   "metadata": {},
   "outputs": [
    {
     "name": "stdout",
     "output_type": "stream",
     "text": [
      "<class 'pandas.core.frame.DataFrame'>\n",
      "Int64Index: 3113 entries, 0 to 3208\n",
      "Data columns (total 7 columns):\n",
      " #   Column                   Non-Null Count  Dtype \n",
      "---  ------                   --------------  ----- \n",
      " 0   county                   3109 non-null   object\n",
      " 1   State                    3111 non-null   object\n",
      " 2   per capita income        3113 non-null   object\n",
      " 3   median household income  3111 non-null   object\n",
      " 4   median family income     3111 non-null   object\n",
      " 5   population               3111 non-null   object\n",
      " 6   number of households     3111 non-null   object\n",
      "dtypes: object(7)\n",
      "memory usage: 194.6+ KB\n"
     ]
    }
   ],
   "source": [
    "county_df.info()"
   ]
  },
  {
   "cell_type": "code",
   "execution_count": 11,
   "metadata": {},
   "outputs": [
    {
     "data": {
      "text/plain": [
       "county                     4\n",
       "State                      2\n",
       "per capita income          0\n",
       "median household income    2\n",
       "median family income       2\n",
       "population                 2\n",
       "number of households       2\n",
       "dtype: int64"
      ]
     },
     "execution_count": 11,
     "metadata": {},
     "output_type": "execute_result"
    }
   ],
   "source": [
    "county_df.isna().sum()"
   ]
  },
  {
   "cell_type": "code",
   "execution_count": 12,
   "metadata": {},
   "outputs": [],
   "source": [
    "county_df.dropna(inplace=True)"
   ]
  },
  {
   "cell_type": "code",
   "execution_count": 13,
   "metadata": {},
   "outputs": [
    {
     "data": {
      "text/plain": [
       "county                     0\n",
       "State                      0\n",
       "per capita income          0\n",
       "median household income    0\n",
       "median family income       0\n",
       "population                 0\n",
       "number of households       0\n",
       "dtype: int64"
      ]
     },
     "execution_count": 13,
     "metadata": {},
     "output_type": "execute_result"
    }
   ],
   "source": [
    "county_df.isna().sum()"
   ]
  },
  {
   "cell_type": "code",
   "execution_count": 14,
   "metadata": {},
   "outputs": [
    {
     "data": {
      "text/html": [
       "<div>\n",
       "<style scoped>\n",
       "    .dataframe tbody tr th:only-of-type {\n",
       "        vertical-align: middle;\n",
       "    }\n",
       "\n",
       "    .dataframe tbody tr th {\n",
       "        vertical-align: top;\n",
       "    }\n",
       "\n",
       "    .dataframe thead th {\n",
       "        text-align: right;\n",
       "    }\n",
       "</style>\n",
       "<table border=\"1\" class=\"dataframe\">\n",
       "  <thead>\n",
       "    <tr style=\"text-align: right;\">\n",
       "      <th></th>\n",
       "      <th>county</th>\n",
       "      <th>State</th>\n",
       "      <th>per capita income</th>\n",
       "      <th>median household income</th>\n",
       "      <th>median family income</th>\n",
       "      <th>population</th>\n",
       "      <th>number of households</th>\n",
       "    </tr>\n",
       "  </thead>\n",
       "  <tbody>\n",
       "    <tr>\n",
       "      <th>0</th>\n",
       "      <td>New York County</td>\n",
       "      <td>New York</td>\n",
       "      <td>$62,498</td>\n",
       "      <td>$69,659</td>\n",
       "      <td>$84,627</td>\n",
       "      <td>1,605,272</td>\n",
       "      <td>736,192</td>\n",
       "    </tr>\n",
       "    <tr>\n",
       "      <th>1</th>\n",
       "      <td>Arlington</td>\n",
       "      <td>Virginia</td>\n",
       "      <td>$62,018</td>\n",
       "      <td>$103,208</td>\n",
       "      <td>$139,244</td>\n",
       "      <td>214,861</td>\n",
       "      <td>94,454</td>\n",
       "    </tr>\n",
       "    <tr>\n",
       "      <th>2</th>\n",
       "      <td>Falls Church City</td>\n",
       "      <td>Virginia</td>\n",
       "      <td>$59,088</td>\n",
       "      <td>$120,000</td>\n",
       "      <td>$152,857</td>\n",
       "      <td>12,731</td>\n",
       "      <td>5,020</td>\n",
       "    </tr>\n",
       "    <tr>\n",
       "      <th>3</th>\n",
       "      <td>Marin</td>\n",
       "      <td>California</td>\n",
       "      <td>$56,791</td>\n",
       "      <td>$90,839</td>\n",
       "      <td>$117,357</td>\n",
       "      <td>254,643</td>\n",
       "      <td>102,912</td>\n",
       "    </tr>\n",
       "    <tr>\n",
       "      <th>4</th>\n",
       "      <td>Alexandria City</td>\n",
       "      <td>Virginia</td>\n",
       "      <td>$54,608</td>\n",
       "      <td>$85,706</td>\n",
       "      <td>$107,511</td>\n",
       "      <td>143,684</td>\n",
       "      <td>65,369</td>\n",
       "    </tr>\n",
       "  </tbody>\n",
       "</table>\n",
       "</div>"
      ],
      "text/plain": [
       "              county       State per capita income median household income  \\\n",
       "0    New York County    New York          $62,498                 $69,659    \n",
       "1          Arlington    Virginia          $62,018                $103,208    \n",
       "2  Falls Church City    Virginia          $59,088                $120,000    \n",
       "3              Marin  California          $56,791                 $90,839    \n",
       "4    Alexandria City    Virginia          $54,608                 $85,706    \n",
       "\n",
       "  median family income population number of households  \n",
       "0             $84,627   1,605,272              736,192  \n",
       "1            $139,244     214,861               94,454  \n",
       "2            $152,857      12,731                5,020  \n",
       "3            $117,357     254,643              102,912  \n",
       "4            $107,511     143,684               65,369  "
      ]
     },
     "execution_count": 14,
     "metadata": {},
     "output_type": "execute_result"
    }
   ],
   "source": [
    "county_df.head()"
   ]
  },
  {
   "cell_type": "markdown",
   "metadata": {},
   "source": [
    "## Replace punctuation"
   ]
  },
  {
   "cell_type": "code",
   "execution_count": 15,
   "metadata": {},
   "outputs": [],
   "source": [
    "to_replace = ['$', \",\", \" \"]\n",
    "punc_replace_list = ['per capita income', 'median household income', 'median family income', \n",
    "                     'population', 'number of households']"
   ]
  },
  {
   "cell_type": "code",
   "execution_count": 16,
   "metadata": {},
   "outputs": [],
   "source": [
    "def replace_punctuation(dfName, colNames):\n",
    "    for colName in colNames:\n",
    "        dfName[colName]=dfName[colName].str.replace(\" \",\"\")\n",
    "        dfName[colName]=dfName[colName].str.replace(\",\",\"\")\n",
    "        dfName[colName]=dfName[colName].str.replace(\"$\",\"\")\n",
    "        dfName[colName]=dfName[colName].astype(int)"
   ]
  },
  {
   "cell_type": "code",
   "execution_count": 17,
   "metadata": {},
   "outputs": [],
   "source": [
    "replace_punctuation(county_df, punc_replace_list)"
   ]
  },
  {
   "cell_type": "code",
   "execution_count": 18,
   "metadata": {},
   "outputs": [
    {
     "data": {
      "text/html": [
       "<div>\n",
       "<style scoped>\n",
       "    .dataframe tbody tr th:only-of-type {\n",
       "        vertical-align: middle;\n",
       "    }\n",
       "\n",
       "    .dataframe tbody tr th {\n",
       "        vertical-align: top;\n",
       "    }\n",
       "\n",
       "    .dataframe thead th {\n",
       "        text-align: right;\n",
       "    }\n",
       "</style>\n",
       "<table border=\"1\" class=\"dataframe\">\n",
       "  <thead>\n",
       "    <tr style=\"text-align: right;\">\n",
       "      <th></th>\n",
       "      <th>county</th>\n",
       "      <th>State</th>\n",
       "      <th>per capita income</th>\n",
       "      <th>median household income</th>\n",
       "      <th>median family income</th>\n",
       "      <th>population</th>\n",
       "      <th>number of households</th>\n",
       "    </tr>\n",
       "  </thead>\n",
       "  <tbody>\n",
       "    <tr>\n",
       "      <th>0</th>\n",
       "      <td>New York County</td>\n",
       "      <td>New York</td>\n",
       "      <td>62498</td>\n",
       "      <td>69659</td>\n",
       "      <td>84627</td>\n",
       "      <td>1605272</td>\n",
       "      <td>736192</td>\n",
       "    </tr>\n",
       "    <tr>\n",
       "      <th>1</th>\n",
       "      <td>Arlington</td>\n",
       "      <td>Virginia</td>\n",
       "      <td>62018</td>\n",
       "      <td>103208</td>\n",
       "      <td>139244</td>\n",
       "      <td>214861</td>\n",
       "      <td>94454</td>\n",
       "    </tr>\n",
       "    <tr>\n",
       "      <th>2</th>\n",
       "      <td>Falls Church City</td>\n",
       "      <td>Virginia</td>\n",
       "      <td>59088</td>\n",
       "      <td>120000</td>\n",
       "      <td>152857</td>\n",
       "      <td>12731</td>\n",
       "      <td>5020</td>\n",
       "    </tr>\n",
       "    <tr>\n",
       "      <th>3</th>\n",
       "      <td>Marin</td>\n",
       "      <td>California</td>\n",
       "      <td>56791</td>\n",
       "      <td>90839</td>\n",
       "      <td>117357</td>\n",
       "      <td>254643</td>\n",
       "      <td>102912</td>\n",
       "    </tr>\n",
       "    <tr>\n",
       "      <th>4</th>\n",
       "      <td>Alexandria City</td>\n",
       "      <td>Virginia</td>\n",
       "      <td>54608</td>\n",
       "      <td>85706</td>\n",
       "      <td>107511</td>\n",
       "      <td>143684</td>\n",
       "      <td>65369</td>\n",
       "    </tr>\n",
       "  </tbody>\n",
       "</table>\n",
       "</div>"
      ],
      "text/plain": [
       "              county       State  per capita income  median household income  \\\n",
       "0    New York County    New York              62498                    69659   \n",
       "1          Arlington    Virginia              62018                   103208   \n",
       "2  Falls Church City    Virginia              59088                   120000   \n",
       "3              Marin  California              56791                    90839   \n",
       "4    Alexandria City    Virginia              54608                    85706   \n",
       "\n",
       "   median family income  population  number of households  \n",
       "0                 84627     1605272                736192  \n",
       "1                139244      214861                 94454  \n",
       "2                152857       12731                  5020  \n",
       "3                117357      254643                102912  \n",
       "4                107511      143684                 65369  "
      ]
     },
     "execution_count": 18,
     "metadata": {},
     "output_type": "execute_result"
    }
   ],
   "source": [
    "county_df.head()"
   ]
  },
  {
   "cell_type": "code",
   "execution_count": 19,
   "metadata": {},
   "outputs": [
    {
     "name": "stdout",
     "output_type": "stream",
     "text": [
      "<class 'pandas.core.frame.DataFrame'>\n",
      "Int64Index: 3109 entries, 0 to 3208\n",
      "Data columns (total 7 columns):\n",
      " #   Column                   Non-Null Count  Dtype \n",
      "---  ------                   --------------  ----- \n",
      " 0   county                   3109 non-null   object\n",
      " 1   State                    3109 non-null   object\n",
      " 2   per capita income        3109 non-null   int32 \n",
      " 3   median household income  3109 non-null   int32 \n",
      " 4   median family income     3109 non-null   int32 \n",
      " 5   population               3109 non-null   int32 \n",
      " 6   number of households     3109 non-null   int32 \n",
      "dtypes: int32(5), object(2)\n",
      "memory usage: 133.6+ KB\n"
     ]
    }
   ],
   "source": [
    "county_df.info()"
   ]
  },
  {
   "cell_type": "markdown",
   "metadata": {},
   "source": [
    "##### To CSV"
   ]
  },
  {
   "cell_type": "code",
   "execution_count": 20,
   "metadata": {},
   "outputs": [],
   "source": [
    "county_df.to_csv('data/cleaned_county_df.csv', index=0)"
   ]
  },
  {
   "cell_type": "code",
   "execution_count": null,
   "metadata": {},
   "outputs": [],
   "source": []
  }
 ],
 "metadata": {
  "kernelspec": {
   "display_name": "Python [conda env:learn-env] *",
   "language": "python",
   "name": "conda-env-learn-env-py"
  },
  "language_info": {
   "codemirror_mode": {
    "name": "ipython",
    "version": 3
   },
   "file_extension": ".py",
   "mimetype": "text/x-python",
   "name": "python",
   "nbconvert_exporter": "python",
   "pygments_lexer": "ipython3",
   "version": "3.6.9"
  }
 },
 "nbformat": 4,
 "nbformat_minor": 2
}
