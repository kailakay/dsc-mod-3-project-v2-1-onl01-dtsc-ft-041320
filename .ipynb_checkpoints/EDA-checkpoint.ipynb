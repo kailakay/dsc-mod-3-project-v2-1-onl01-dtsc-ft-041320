{
 "cells": [
  {
   "cell_type": "code",
   "execution_count": 29,
   "metadata": {},
   "outputs": [],
   "source": [
    "import pandas as pd\n",
    "import matplotlib.pyplot as plt \n",
    "import seaborn as sns\n",
    "import numpy as np\n",
    "import math\n",
    "\n",
    "import us\n",
    "import plotly.graph_objects as go\n",
    "import gmaps\n",
    "\n",
    "import folium\n",
    "from folium import plugins\n",
    "\n",
    "from IPython.display import display\n",
    "from PIL import Image\n",
    "\n",
    "pd.set_option('display.max_columns', None)\n",
    "\n",
    "%matplotlib inline "
   ]
  },
  {
   "cell_type": "code",
   "execution_count": 30,
   "metadata": {},
   "outputs": [],
   "source": [
    "market_df = pd.read_csv('data/cleaned_market_df.csv')\n",
    "county_df = pd.read_csv('data/cleaned_county_df.csv')"
   ]
  },
  {
   "cell_type": "markdown",
   "metadata": {},
   "source": [
    "# States"
   ]
  },
  {
   "cell_type": "code",
   "execution_count": 31,
   "metadata": {},
   "outputs": [
    {
     "data": {
      "text/plain": [
       "array(['Vermont', 'Ohio', 'Missouri', 'New York', 'Tennessee', 'Delaware',\n",
       "       'District of Columbia', 'Oregon', 'Minnesota', 'Virginia',\n",
       "       'Pennsylvania', 'Nebraska', 'Illinois', 'Florida', 'Washington',\n",
       "       'Kansas', 'New Jersey', 'Utah', 'Maryland', 'Indiana', 'Nevada',\n",
       "       'Alabama', 'Iowa', 'South Carolina', 'Wisconsin', 'Massachusetts',\n",
       "       'Louisiana', 'New Mexico', 'Oklahoma', 'Michigan', 'Georgia',\n",
       "       'North Carolina', 'Arizona', 'California', 'Texas', 'Colorado',\n",
       "       'West Virginia', 'Idaho', 'Montana', 'North Dakota', 'Kentucky',\n",
       "       'Rhode Island', 'Arkansas', 'Mississippi', 'Maine', 'Connecticut',\n",
       "       'New Hampshire', 'Wyoming', 'South Dakota'], dtype=object)"
      ]
     },
     "execution_count": 31,
     "metadata": {},
     "output_type": "execute_result"
    }
   ],
   "source": [
    "market_df['State'].unique()"
   ]
  },
  {
   "cell_type": "code",
   "execution_count": 32,
   "metadata": {},
   "outputs": [],
   "source": [
    "state_list = ['Vermont', 'Ohio', 'Missouri', 'New York', 'Tennessee', 'Delaware',\n",
    "              'District of Columbia', 'Oregon', 'Minnesota', 'Virginia',\n",
    "              'Pennsylvania', 'Nebraska', 'Illinois', 'Florida', 'Washington',\n",
    "              'Kansas', 'New Jersey', 'Utah', 'Maryland', 'Indiana', 'Nevada',\n",
    "              'Alabama', 'Iowa', 'South Carolina', 'Wisconsin', 'Massachusetts',\n",
    "              'Louisiana', 'New Mexico', 'Oklahoma', 'Michigan', 'Georgia',\n",
    "              'North Carolina', 'Arizona', 'California', 'Texas', 'Colorado',\n",
    "              'West Virginia', 'Idaho', 'Montana', 'North Dakota', 'Kentucky',\n",
    "              'Rhode Island', 'Arkansas', 'Mississippi', 'Maine', 'Connecticut',\n",
    "              'New Hampshire', 'Wyoming', 'South Dakota']\n",
    "\n",
    "alternative_pay_methods = [0,1,2,3,4]"
   ]
  },
  {
   "cell_type": "code",
   "execution_count": 33,
   "metadata": {},
   "outputs": [],
   "source": [
    "state_df_col_names = ['State', 'has_website', 'alt_pay_methods', 'product_count']"
   ]
  },
  {
   "cell_type": "code",
   "execution_count": 34,
   "metadata": {},
   "outputs": [],
   "source": [
    "state_df = market_df.copy()\n",
    "state_df = state_df[state_df_col_names]"
   ]
  },
  {
   "cell_type": "code",
   "execution_count": 35,
   "metadata": {},
   "outputs": [],
   "source": [
    "ser = state_df.groupby(['State', 'alt_pay_methods', 'has_website']).product_count.mean()"
   ]
  },
  {
   "cell_type": "code",
   "execution_count": 36,
   "metadata": {},
   "outputs": [
    {
     "data": {
      "text/html": [
       "<div>\n",
       "<style scoped>\n",
       "    .dataframe tbody tr th:only-of-type {\n",
       "        vertical-align: middle;\n",
       "    }\n",
       "\n",
       "    .dataframe tbody tr th {\n",
       "        vertical-align: top;\n",
       "    }\n",
       "\n",
       "    .dataframe thead th {\n",
       "        text-align: right;\n",
       "    }\n",
       "</style>\n",
       "<table border=\"1\" class=\"dataframe\">\n",
       "  <thead>\n",
       "    <tr style=\"text-align: right;\">\n",
       "      <th></th>\n",
       "      <th></th>\n",
       "      <th></th>\n",
       "      <th>product_count</th>\n",
       "    </tr>\n",
       "    <tr>\n",
       "      <th>State</th>\n",
       "      <th>alt_pay_methods</th>\n",
       "      <th>has_website</th>\n",
       "      <th></th>\n",
       "    </tr>\n",
       "  </thead>\n",
       "  <tbody>\n",
       "    <tr>\n",
       "      <th rowspan=\"5\" valign=\"top\">Alabama</th>\n",
       "      <th rowspan=\"2\" valign=\"top\">0</th>\n",
       "      <th>0</th>\n",
       "      <td>9.750000</td>\n",
       "    </tr>\n",
       "    <tr>\n",
       "      <th>1</th>\n",
       "      <td>10.555556</td>\n",
       "    </tr>\n",
       "    <tr>\n",
       "      <th rowspan=\"2\" valign=\"top\">1</th>\n",
       "      <th>0</th>\n",
       "      <td>7.400000</td>\n",
       "    </tr>\n",
       "    <tr>\n",
       "      <th>1</th>\n",
       "      <td>11.153846</td>\n",
       "    </tr>\n",
       "    <tr>\n",
       "      <th>2</th>\n",
       "      <th>0</th>\n",
       "      <td>6.454545</td>\n",
       "    </tr>\n",
       "    <tr>\n",
       "      <th>...</th>\n",
       "      <th>...</th>\n",
       "      <th>...</th>\n",
       "      <td>...</td>\n",
       "    </tr>\n",
       "    <tr>\n",
       "      <th>Wisconsin</th>\n",
       "      <th>4</th>\n",
       "      <th>1</th>\n",
       "      <td>17.705882</td>\n",
       "    </tr>\n",
       "    <tr>\n",
       "      <th rowspan=\"4\" valign=\"top\">Wyoming</th>\n",
       "      <th rowspan=\"2\" valign=\"top\">0</th>\n",
       "      <th>0</th>\n",
       "      <td>9.833333</td>\n",
       "    </tr>\n",
       "    <tr>\n",
       "      <th>1</th>\n",
       "      <td>12.769231</td>\n",
       "    </tr>\n",
       "    <tr>\n",
       "      <th rowspan=\"2\" valign=\"top\">1</th>\n",
       "      <th>0</th>\n",
       "      <td>10.000000</td>\n",
       "    </tr>\n",
       "    <tr>\n",
       "      <th>1</th>\n",
       "      <td>16.000000</td>\n",
       "    </tr>\n",
       "  </tbody>\n",
       "</table>\n",
       "<p>421 rows × 1 columns</p>\n",
       "</div>"
      ],
      "text/plain": [
       "                                       product_count\n",
       "State     alt_pay_methods has_website               \n",
       "Alabama   0               0                 9.750000\n",
       "                          1                10.555556\n",
       "          1               0                 7.400000\n",
       "                          1                11.153846\n",
       "          2               0                 6.454545\n",
       "...                                              ...\n",
       "Wisconsin 4               1                17.705882\n",
       "Wyoming   0               0                 9.833333\n",
       "                          1                12.769231\n",
       "          1               0                10.000000\n",
       "                          1                16.000000\n",
       "\n",
       "[421 rows x 1 columns]"
      ]
     },
     "execution_count": 36,
     "metadata": {},
     "output_type": "execute_result"
    }
   ],
   "source": [
    "stack = ser.to_frame()\n",
    "stack"
   ]
  },
  {
   "cell_type": "code",
   "execution_count": 37,
   "metadata": {},
   "outputs": [
    {
     "data": {
      "image/png": "[encoded data removed]",
      "text/plain": [
       "<Figure size 432x288 with 1 Axes>"
      ]
     },
     "metadata": {
      "needs_background": "light"
     },
     "output_type": "display_data"
    }
   ],
   "source": [
    "x = stack['product_count']\n",
    "\n",
    "sns.set_color_codes()\n",
    "ax = sns.distplot(x, color=\"y\")"
   ]
  },
  {
   "cell_type": "code",
   "execution_count": 38,
   "metadata": {},
   "outputs": [],
   "source": [
    "#from pandas_profiling import ProfileReport\n",
    "#profile = ProfileReport(df, title=\"Pandas Profiling Report\")\n",
    "#profile"
   ]
  },
  {
   "cell_type": "code",
   "execution_count": 39,
   "metadata": {},
   "outputs": [],
   "source": [
    "total_market = market_df.groupby([\"State\"])[\"MarketName\"].value_counts().groupby([\"State\"]).sum().sort_values(ascending=False).reset_index()\n",
    "total_market = pd.DataFrame(total_market)\n",
    "total_market.rename(columns={\"MarketName\": \"Number of Markets\"}, inplace=True)"
   ]
  },
  {
   "cell_type": "code",
   "execution_count": 40,
   "metadata": {},
   "outputs": [
    {
     "data": {
      "text/html": [
       "<div>\n",
       "<style scoped>\n",
       "    .dataframe tbody tr th:only-of-type {\n",
       "        vertical-align: middle;\n",
       "    }\n",
       "\n",
       "    .dataframe tbody tr th {\n",
       "        vertical-align: top;\n",
       "    }\n",
       "\n",
       "    .dataframe thead th {\n",
       "        text-align: right;\n",
       "    }\n",
       "</style>\n",
       "<table border=\"1\" class=\"dataframe\">\n",
       "  <thead>\n",
       "    <tr style=\"text-align: right;\">\n",
       "      <th></th>\n",
       "      <th>State</th>\n",
       "      <th>Number of Markets</th>\n",
       "    </tr>\n",
       "  </thead>\n",
       "  <tbody>\n",
       "    <tr>\n",
       "      <th>0</th>\n",
       "      <td>New York</td>\n",
       "      <td>492</td>\n",
       "    </tr>\n",
       "    <tr>\n",
       "      <th>1</th>\n",
       "      <td>California</td>\n",
       "      <td>459</td>\n",
       "    </tr>\n",
       "    <tr>\n",
       "      <th>2</th>\n",
       "      <td>Massachusetts</td>\n",
       "      <td>252</td>\n",
       "    </tr>\n",
       "    <tr>\n",
       "      <th>3</th>\n",
       "      <td>Michigan</td>\n",
       "      <td>247</td>\n",
       "    </tr>\n",
       "    <tr>\n",
       "      <th>4</th>\n",
       "      <td>Missouri</td>\n",
       "      <td>221</td>\n",
       "    </tr>\n",
       "  </tbody>\n",
       "</table>\n",
       "</div>"
      ],
      "text/plain": [
       "           State  Number of Markets\n",
       "0       New York                492\n",
       "1     California                459\n",
       "2  Massachusetts                252\n",
       "3       Michigan                247\n",
       "4       Missouri                221"
      ]
     },
     "execution_count": 40,
     "metadata": {},
     "output_type": "execute_result"
    }
   ],
   "source": [
    "total_market.head()"
   ]
  },
  {
   "cell_type": "code",
   "execution_count": 41,
   "metadata": {},
   "outputs": [],
   "source": [
    "max_product_count = market_df.groupby([\"State\"])[\"product_count\"].value_counts().groupby([\"State\"]).max().sort_values(ascending=False).reset_index()\n",
    "max_product_count = pd.DataFrame(max_product_count)\n",
    "max_product_count.rename(columns={\"product_count\": \"Max Product Count\"}, inplace=True)"
   ]
  },
  {
   "cell_type": "code",
   "execution_count": 42,
   "metadata": {},
   "outputs": [
    {
     "data": {
      "text/html": [
       "<div>\n",
       "<style scoped>\n",
       "    .dataframe tbody tr th:only-of-type {\n",
       "        vertical-align: middle;\n",
       "    }\n",
       "\n",
       "    .dataframe tbody tr th {\n",
       "        vertical-align: top;\n",
       "    }\n",
       "\n",
       "    .dataframe thead th {\n",
       "        text-align: right;\n",
       "    }\n",
       "</style>\n",
       "<table border=\"1\" class=\"dataframe\">\n",
       "  <thead>\n",
       "    <tr style=\"text-align: right;\">\n",
       "      <th></th>\n",
       "      <th>State</th>\n",
       "      <th>Max Product Count</th>\n",
       "    </tr>\n",
       "  </thead>\n",
       "  <tbody>\n",
       "    <tr>\n",
       "      <th>0</th>\n",
       "      <td>California</td>\n",
       "      <td>37</td>\n",
       "    </tr>\n",
       "    <tr>\n",
       "      <th>1</th>\n",
       "      <td>New York</td>\n",
       "      <td>37</td>\n",
       "    </tr>\n",
       "    <tr>\n",
       "      <th>2</th>\n",
       "      <td>Missouri</td>\n",
       "      <td>29</td>\n",
       "    </tr>\n",
       "    <tr>\n",
       "      <th>3</th>\n",
       "      <td>Massachusetts</td>\n",
       "      <td>25</td>\n",
       "    </tr>\n",
       "    <tr>\n",
       "      <th>4</th>\n",
       "      <td>Wisconsin</td>\n",
       "      <td>25</td>\n",
       "    </tr>\n",
       "  </tbody>\n",
       "</table>\n",
       "</div>"
      ],
      "text/plain": [
       "           State  Max Product Count\n",
       "0     California                 37\n",
       "1       New York                 37\n",
       "2       Missouri                 29\n",
       "3  Massachusetts                 25\n",
       "4      Wisconsin                 25"
      ]
     },
     "execution_count": 42,
     "metadata": {},
     "output_type": "execute_result"
    }
   ],
   "source": [
    "max_product_count.head()"
   ]
  },
  {
   "cell_type": "code",
   "execution_count": 43,
   "metadata": {},
   "outputs": [],
   "source": [
    "min_product_count = market_df.groupby([\"State\"])[\"product_count\"].value_counts().groupby([\"State\"]).min().sort_values(ascending=False).reset_index()\n",
    "min_product_count = pd.DataFrame(min_product_count)\n",
    "min_product_count.rename(columns={\"product_count\": \"Min Product Count\"}, inplace=True)"
   ]
  },
  {
   "cell_type": "code",
   "execution_count": 44,
   "metadata": {},
   "outputs": [
    {
     "data": {
      "text/html": [
       "<div>\n",
       "<style scoped>\n",
       "    .dataframe tbody tr th:only-of-type {\n",
       "        vertical-align: middle;\n",
       "    }\n",
       "\n",
       "    .dataframe tbody tr th {\n",
       "        vertical-align: top;\n",
       "    }\n",
       "\n",
       "    .dataframe thead th {\n",
       "        text-align: right;\n",
       "    }\n",
       "</style>\n",
       "<table border=\"1\" class=\"dataframe\">\n",
       "  <thead>\n",
       "    <tr style=\"text-align: right;\">\n",
       "      <th></th>\n",
       "      <th>State</th>\n",
       "      <th>Min Product Count</th>\n",
       "    </tr>\n",
       "  </thead>\n",
       "  <tbody>\n",
       "    <tr>\n",
       "      <th>0</th>\n",
       "      <td>Wyoming</td>\n",
       "      <td>1</td>\n",
       "    </tr>\n",
       "    <tr>\n",
       "      <th>1</th>\n",
       "      <td>Missouri</td>\n",
       "      <td>1</td>\n",
       "    </tr>\n",
       "    <tr>\n",
       "      <th>2</th>\n",
       "      <td>Minnesota</td>\n",
       "      <td>1</td>\n",
       "    </tr>\n",
       "    <tr>\n",
       "      <th>3</th>\n",
       "      <td>Michigan</td>\n",
       "      <td>1</td>\n",
       "    </tr>\n",
       "    <tr>\n",
       "      <th>4</th>\n",
       "      <td>Massachusetts</td>\n",
       "      <td>1</td>\n",
       "    </tr>\n",
       "  </tbody>\n",
       "</table>\n",
       "</div>"
      ],
      "text/plain": [
       "           State  Min Product Count\n",
       "0        Wyoming                  1\n",
       "1       Missouri                  1\n",
       "2      Minnesota                  1\n",
       "3       Michigan                  1\n",
       "4  Massachusetts                  1"
      ]
     },
     "execution_count": 44,
     "metadata": {},
     "output_type": "execute_result"
    }
   ],
   "source": [
    "min_product_count.head()"
   ]
  },
  {
   "cell_type": "code",
   "execution_count": 45,
   "metadata": {},
   "outputs": [],
   "source": [
    "state_counts_df = total_market.copy()"
   ]
  },
  {
   "cell_type": "code",
   "execution_count": 46,
   "metadata": {},
   "outputs": [],
   "source": [
    "state_counts_df = state_counts_df.merge(max_product_count, on='State')\n",
    "state_counts_df = state_counts_df.merge(min_product_count, on='State')"
   ]
  },
  {
   "cell_type": "code",
   "execution_count": 47,
   "metadata": {},
   "outputs": [
    {
     "data": {
      "text/html": [
       "<div>\n",
       "<style scoped>\n",
       "    .dataframe tbody tr th:only-of-type {\n",
       "        vertical-align: middle;\n",
       "    }\n",
       "\n",
       "    .dataframe tbody tr th {\n",
       "        vertical-align: top;\n",
       "    }\n",
       "\n",
       "    .dataframe thead th {\n",
       "        text-align: right;\n",
       "    }\n",
       "</style>\n",
       "<table border=\"1\" class=\"dataframe\">\n",
       "  <thead>\n",
       "    <tr style=\"text-align: right;\">\n",
       "      <th></th>\n",
       "      <th>State</th>\n",
       "      <th>Number of Markets</th>\n",
       "      <th>Max Product Count</th>\n",
       "      <th>Min Product Count</th>\n",
       "    </tr>\n",
       "  </thead>\n",
       "  <tbody>\n",
       "    <tr>\n",
       "      <th>0</th>\n",
       "      <td>New York</td>\n",
       "      <td>492</td>\n",
       "      <td>37</td>\n",
       "      <td>1</td>\n",
       "    </tr>\n",
       "    <tr>\n",
       "      <th>1</th>\n",
       "      <td>California</td>\n",
       "      <td>459</td>\n",
       "      <td>37</td>\n",
       "      <td>1</td>\n",
       "    </tr>\n",
       "    <tr>\n",
       "      <th>2</th>\n",
       "      <td>Massachusetts</td>\n",
       "      <td>252</td>\n",
       "      <td>25</td>\n",
       "      <td>1</td>\n",
       "    </tr>\n",
       "    <tr>\n",
       "      <th>3</th>\n",
       "      <td>Michigan</td>\n",
       "      <td>247</td>\n",
       "      <td>24</td>\n",
       "      <td>1</td>\n",
       "    </tr>\n",
       "    <tr>\n",
       "      <th>4</th>\n",
       "      <td>Missouri</td>\n",
       "      <td>221</td>\n",
       "      <td>29</td>\n",
       "      <td>1</td>\n",
       "    </tr>\n",
       "  </tbody>\n",
       "</table>\n",
       "</div>"
      ],
      "text/plain": [
       "           State  Number of Markets  Max Product Count  Min Product Count\n",
       "0       New York                492                 37                  1\n",
       "1     California                459                 37                  1\n",
       "2  Massachusetts                252                 25                  1\n",
       "3       Michigan                247                 24                  1\n",
       "4       Missouri                221                 29                  1"
      ]
     },
     "execution_count": 47,
     "metadata": {},
     "output_type": "execute_result"
    }
   ],
   "source": [
    "state_counts_df.head()"
   ]
  },
  {
   "cell_type": "markdown",
   "metadata": {},
   "source": [
    "# Visualizations"
   ]
  },
  {
   "cell_type": "code",
   "execution_count": 50,
   "metadata": {},
   "outputs": [],
   "source": [
    "# list of all the unique states in the data set\n",
    "states = list(county_df['State'].unique())\n",
    "\n",
    "states_coded = []\n",
    "\n",
    "# obtains the FIPS code from state name\n",
    "for state in states:\n",
    "    states_coded.append(us.states.lookup(state).abbr)"
   ]
  },
  {
   "cell_type": "code",
   "execution_count": 52,
   "metadata": {},
   "outputs": [
    {
     "data": {
      "text/html": [
       "<div>\n",
       "<style scoped>\n",
       "    .dataframe tbody tr th:only-of-type {\n",
       "        vertical-align: middle;\n",
       "    }\n",
       "\n",
       "    .dataframe tbody tr th {\n",
       "        vertical-align: top;\n",
       "    }\n",
       "\n",
       "    .dataframe thead th {\n",
       "        text-align: right;\n",
       "    }\n",
       "</style>\n",
       "<table border=\"1\" class=\"dataframe\">\n",
       "  <thead>\n",
       "    <tr style=\"text-align: right;\">\n",
       "      <th></th>\n",
       "      <th>State</th>\n",
       "      <th>State code</th>\n",
       "      <th>Per capita income</th>\n",
       "      <th>Population</th>\n",
       "      <th>Number of households</th>\n",
       "      <th>Number of markets</th>\n",
       "    </tr>\n",
       "  </thead>\n",
       "  <tbody>\n",
       "    <tr>\n",
       "      <th>0</th>\n",
       "      <td>New York</td>\n",
       "      <td>NY</td>\n",
       "      <td>32382</td>\n",
       "      <td>19487053</td>\n",
       "      <td>7234743</td>\n",
       "      <td>492</td>\n",
       "    </tr>\n",
       "    <tr>\n",
       "      <th>1</th>\n",
       "      <td>Virginia</td>\n",
       "      <td>VA</td>\n",
       "      <td>33493</td>\n",
       "      <td>8100653</td>\n",
       "      <td>3022739</td>\n",
       "      <td>205</td>\n",
       "    </tr>\n",
       "    <tr>\n",
       "      <th>2</th>\n",
       "      <td>California</td>\n",
       "      <td>CA</td>\n",
       "      <td>29527</td>\n",
       "      <td>37659181</td>\n",
       "      <td>12542460</td>\n",
       "      <td>459</td>\n",
       "    </tr>\n",
       "    <tr>\n",
       "      <th>3</th>\n",
       "      <td>Colorado</td>\n",
       "      <td>CO</td>\n",
       "      <td>31109</td>\n",
       "      <td>5119329</td>\n",
       "      <td>1977591</td>\n",
       "      <td>102</td>\n",
       "    </tr>\n",
       "    <tr>\n",
       "      <th>4</th>\n",
       "      <td>New Mexico</td>\n",
       "      <td>NM</td>\n",
       "      <td>23763</td>\n",
       "      <td>2069706</td>\n",
       "      <td>761938</td>\n",
       "      <td>48</td>\n",
       "    </tr>\n",
       "  </tbody>\n",
       "</table>\n",
       "</div>"
      ],
      "text/plain": [
       "        State State code  Per capita income Population Number of households  \\\n",
       "0    New York         NY              32382   19487053              7234743   \n",
       "1    Virginia         VA              33493    8100653              3022739   \n",
       "2  California         CA              29527   37659181             12542460   \n",
       "3    Colorado         CO              31109    5119329              1977591   \n",
       "4  New Mexico         NM              23763    2069706               761938   \n",
       "\n",
       "  Number of markets  \n",
       "0               492  \n",
       "1               205  \n",
       "2               459  \n",
       "3               102  \n",
       "4                48  "
      ]
     },
     "execution_count": 52,
     "metadata": {},
     "output_type": "execute_result"
    }
   ],
   "source": [
    "# ready to create state-level data set\n",
    "state_info = pd.DataFrame()\n",
    "\n",
    "# retain state names in state-level data set for reference\n",
    "state_info['State'] = states\n",
    "\n",
    "# FIPS code of each state\n",
    "state_info['State code'] = states_coded\n",
    "\n",
    "# variables to be included in new data set\n",
    "cols = ['Per capita income', 'Population', 'Number of households', 'Number of markets']\n",
    "\n",
    "# initialisation\n",
    "for var in cols:\n",
    "    state_info[var] = ''\n",
    "\n",
    "temp = []\n",
    "\n",
    "# computation for state-level variables\n",
    "for i in range(len(states)):\n",
    "    num_household = 0\n",
    "    \n",
    "    # dataframe of all counties in state state[i]\n",
    "    state_df = pd.DataFrame(county_df.loc[county_df['State'] == states[i], :]).reset_index()\n",
    "    \n",
    "    total_popn = sum(state_df['population'])\n",
    "    state_info.loc[i, 'Population'] = total_popn\n",
    "    state_info.loc[i, 'Number of households'] = state_df['number of households'].sum()\n",
    "    state_info.loc[i, 'Number of markets'] = market_df[market_df['State'] == states[i]].shape[0]\n",
    "    temp += [round(state_df['per capita income'].dot(state_df['population'] / total_popn))]\n",
    "\n",
    "state_info['Per capita income'] = temp\n",
    "state_info['Per capita income'] = state_info['Per capita income'].astype(int)\n",
    "\n",
    "state_info.head()"
   ]
  },
  {
   "cell_type": "code",
   "execution_count": null,
   "metadata": {},
   "outputs": [],
   "source": []
  }
 ],
 "metadata": {
  "kernelspec": {
   "display_name": "Python [conda env:learn-env] *",
   "language": "python",
   "name": "conda-env-learn-env-py"
  },
  "language_info": {
   "codemirror_mode": {
    "name": "ipython",
    "version": 3
   },
   "file_extension": ".py",
   "mimetype": "text/x-python",
   "name": "python",
   "nbconvert_exporter": "python",
   "pygments_lexer": "ipython3",
   "version": "3.6.9"
  }
 },
 "nbformat": 4,
 "nbformat_minor": 2
}
