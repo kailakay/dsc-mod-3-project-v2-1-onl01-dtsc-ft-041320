{
 "cells": [
  {
   "cell_type": "markdown",
   "metadata": {},
   "source": [
    "# Does the variety of product offerings have an impact on alternative payment methods?"
   ]
  },
  {
   "cell_type": "code",
   "execution_count": 2,
   "metadata": {},
   "outputs": [
    {
     "name": "stderr",
     "output_type": "stream",
     "text": [
      "C:\\Users\\kekay\\anaconda3\\envs\\learn-env\\lib\\site-packages\\statsmodels\\tools\\_testing.py:19: FutureWarning: pandas.util.testing is deprecated. Use the functions in the public API at pandas.testing instead.\n",
      "  import pandas.util.testing as tm\n"
     ]
    }
   ],
   "source": [
    "import pandas as pd\n",
    "import matplotlib.pyplot as plt \n",
    "import seaborn as sns\n",
    "import numpy as np\n",
    "\n",
    "import plotly.express as px\n",
    "\n",
    "pd.set_option('display.max_columns', None)\n",
    "\n",
    "%matplotlib inline "
   ]
  },
  {
   "cell_type": "code",
   "execution_count": 3,
   "metadata": {},
   "outputs": [
    {
     "data": {
      "text/html": [
       "<div>\n",
       "<style scoped>\n",
       "    .dataframe tbody tr th:only-of-type {\n",
       "        vertical-align: middle;\n",
       "    }\n",
       "\n",
       "    .dataframe tbody tr th {\n",
       "        vertical-align: top;\n",
       "    }\n",
       "\n",
       "    .dataframe thead th {\n",
       "        text-align: right;\n",
       "    }\n",
       "</style>\n",
       "<table border=\"1\" class=\"dataframe\">\n",
       "  <thead>\n",
       "    <tr style=\"text-align: right;\">\n",
       "      <th></th>\n",
       "      <th>MarketName</th>\n",
       "      <th>State</th>\n",
       "      <th>Credit</th>\n",
       "      <th>WIC</th>\n",
       "      <th>WICcash</th>\n",
       "      <th>SFMNP</th>\n",
       "      <th>SNAP</th>\n",
       "      <th>has_website</th>\n",
       "      <th>Produce</th>\n",
       "      <th>Confectionary</th>\n",
       "      <th>Household</th>\n",
       "      <th>Dairy</th>\n",
       "      <th>Plants</th>\n",
       "      <th>Meat</th>\n",
       "      <th>Other</th>\n",
       "      <th>product_count</th>\n",
       "      <th>alt_pay_methods</th>\n",
       "    </tr>\n",
       "  </thead>\n",
       "  <tbody>\n",
       "    <tr>\n",
       "      <th>0</th>\n",
       "      <td>Caledonia Farmers Market Association - Danville</td>\n",
       "      <td>Vermont</td>\n",
       "      <td>1</td>\n",
       "      <td>1</td>\n",
       "      <td>0</td>\n",
       "      <td>1</td>\n",
       "      <td>0</td>\n",
       "      <td>1</td>\n",
       "      <td>5.0</td>\n",
       "      <td>4.0</td>\n",
       "      <td>3.0</td>\n",
       "      <td>2.0</td>\n",
       "      <td>2.0</td>\n",
       "      <td>2.0</td>\n",
       "      <td>2.0</td>\n",
       "      <td>20.0</td>\n",
       "      <td>2</td>\n",
       "    </tr>\n",
       "    <tr>\n",
       "      <th>1</th>\n",
       "      <td>Stearns Homestead Farmers' Market</td>\n",
       "      <td>Ohio</td>\n",
       "      <td>1</td>\n",
       "      <td>0</td>\n",
       "      <td>0</td>\n",
       "      <td>1</td>\n",
       "      <td>0</td>\n",
       "      <td>1</td>\n",
       "      <td>3.0</td>\n",
       "      <td>4.0</td>\n",
       "      <td>2.0</td>\n",
       "      <td>1.0</td>\n",
       "      <td>1.0</td>\n",
       "      <td>1.0</td>\n",
       "      <td>0.0</td>\n",
       "      <td>12.0</td>\n",
       "      <td>1</td>\n",
       "    </tr>\n",
       "    <tr>\n",
       "      <th>2</th>\n",
       "      <td>10th Steet Community Farmers Market</td>\n",
       "      <td>Missouri</td>\n",
       "      <td>1</td>\n",
       "      <td>0</td>\n",
       "      <td>0</td>\n",
       "      <td>0</td>\n",
       "      <td>0</td>\n",
       "      <td>0</td>\n",
       "      <td>3.0</td>\n",
       "      <td>3.0</td>\n",
       "      <td>2.0</td>\n",
       "      <td>1.0</td>\n",
       "      <td>1.0</td>\n",
       "      <td>2.0</td>\n",
       "      <td>1.0</td>\n",
       "      <td>13.0</td>\n",
       "      <td>0</td>\n",
       "    </tr>\n",
       "    <tr>\n",
       "      <th>3</th>\n",
       "      <td>112st Madison Avenue</td>\n",
       "      <td>New York</td>\n",
       "      <td>0</td>\n",
       "      <td>0</td>\n",
       "      <td>1</td>\n",
       "      <td>1</td>\n",
       "      <td>0</td>\n",
       "      <td>0</td>\n",
       "      <td>3.0</td>\n",
       "      <td>3.0</td>\n",
       "      <td>2.0</td>\n",
       "      <td>0.0</td>\n",
       "      <td>1.0</td>\n",
       "      <td>0.0</td>\n",
       "      <td>1.0</td>\n",
       "      <td>10.0</td>\n",
       "      <td>2</td>\n",
       "    </tr>\n",
       "    <tr>\n",
       "      <th>4</th>\n",
       "      <td>12 South Farmers Market</td>\n",
       "      <td>Tennessee</td>\n",
       "      <td>1</td>\n",
       "      <td>0</td>\n",
       "      <td>0</td>\n",
       "      <td>0</td>\n",
       "      <td>1</td>\n",
       "      <td>1</td>\n",
       "      <td>4.0</td>\n",
       "      <td>5.0</td>\n",
       "      <td>2.0</td>\n",
       "      <td>2.0</td>\n",
       "      <td>1.0</td>\n",
       "      <td>2.0</td>\n",
       "      <td>2.0</td>\n",
       "      <td>18.0</td>\n",
       "      <td>1</td>\n",
       "    </tr>\n",
       "  </tbody>\n",
       "</table>\n",
       "</div>"
      ],
      "text/plain": [
       "                                         MarketName      State  Credit  WIC  \\\n",
       "0   Caledonia Farmers Market Association - Danville    Vermont       1    1   \n",
       "1                 Stearns Homestead Farmers' Market       Ohio       1    0   \n",
       "2               10th Steet Community Farmers Market   Missouri       1    0   \n",
       "3                              112st Madison Avenue   New York       0    0   \n",
       "4                           12 South Farmers Market  Tennessee       1    0   \n",
       "\n",
       "   WICcash  SFMNP  SNAP  has_website  Produce  Confectionary  Household  \\\n",
       "0        0      1     0            1      5.0            4.0        3.0   \n",
       "1        0      1     0            1      3.0            4.0        2.0   \n",
       "2        0      0     0            0      3.0            3.0        2.0   \n",
       "3        1      1     0            0      3.0            3.0        2.0   \n",
       "4        0      0     1            1      4.0            5.0        2.0   \n",
       "\n",
       "   Dairy  Plants  Meat  Other  product_count  alt_pay_methods  \n",
       "0    2.0     2.0   2.0    2.0           20.0                2  \n",
       "1    1.0     1.0   1.0    0.0           12.0                1  \n",
       "2    1.0     1.0   2.0    1.0           13.0                0  \n",
       "3    0.0     1.0   0.0    1.0           10.0                2  \n",
       "4    2.0     1.0   2.0    2.0           18.0                1  "
      ]
     },
     "execution_count": 3,
     "metadata": {},
     "output_type": "execute_result"
    }
   ],
   "source": [
    "df = pd.read_csv('data/cleaned_market_df.csv')\n",
    "drop_cols = ['street', 'city', 'County', 'zip', 'x', 'y']\n",
    "df.drop(columns=drop_cols, axis=1, inplace=True)\n",
    "df.head()"
   ]
  },
  {
   "cell_type": "code",
   "execution_count": 4,
   "metadata": {},
   "outputs": [
    {
     "name": "stdout",
     "output_type": "stream",
     "text": [
      "shape\n",
      "(5864, 17)\n",
      "----------------------------------------\n"
     ]
    },
    {
     "data": {
      "text/html": [
       "<div>\n",
       "<style scoped>\n",
       "    .dataframe tbody tr th:only-of-type {\n",
       "        vertical-align: middle;\n",
       "    }\n",
       "\n",
       "    .dataframe tbody tr th {\n",
       "        vertical-align: top;\n",
       "    }\n",
       "\n",
       "    .dataframe thead th {\n",
       "        text-align: right;\n",
       "    }\n",
       "</style>\n",
       "<table border=\"1\" class=\"dataframe\">\n",
       "  <thead>\n",
       "    <tr style=\"text-align: right;\">\n",
       "      <th></th>\n",
       "      <th>Credit</th>\n",
       "      <th>WIC</th>\n",
       "      <th>WICcash</th>\n",
       "      <th>SFMNP</th>\n",
       "      <th>SNAP</th>\n",
       "      <th>has_website</th>\n",
       "      <th>Produce</th>\n",
       "      <th>Confectionary</th>\n",
       "      <th>Household</th>\n",
       "      <th>Dairy</th>\n",
       "      <th>Plants</th>\n",
       "      <th>Meat</th>\n",
       "      <th>Other</th>\n",
       "      <th>product_count</th>\n",
       "      <th>alt_pay_methods</th>\n",
       "    </tr>\n",
       "  </thead>\n",
       "  <tbody>\n",
       "    <tr>\n",
       "      <th>count</th>\n",
       "      <td>5864.000000</td>\n",
       "      <td>5864.000000</td>\n",
       "      <td>5864.000000</td>\n",
       "      <td>5864.000000</td>\n",
       "      <td>5864.000000</td>\n",
       "      <td>5864.000000</td>\n",
       "      <td>5864.000000</td>\n",
       "      <td>5864.000000</td>\n",
       "      <td>5864.000000</td>\n",
       "      <td>5864.000000</td>\n",
       "      <td>5864.000000</td>\n",
       "      <td>5864.000000</td>\n",
       "      <td>5864.000000</td>\n",
       "      <td>5864.000000</td>\n",
       "      <td>5864.00000</td>\n",
       "    </tr>\n",
       "    <tr>\n",
       "      <th>mean</th>\n",
       "      <td>0.811050</td>\n",
       "      <td>0.453956</td>\n",
       "      <td>0.226808</td>\n",
       "      <td>0.467087</td>\n",
       "      <td>0.493179</td>\n",
       "      <td>0.718793</td>\n",
       "      <td>3.550819</td>\n",
       "      <td>3.105218</td>\n",
       "      <td>1.511767</td>\n",
       "      <td>1.289563</td>\n",
       "      <td>1.667633</td>\n",
       "      <td>1.274045</td>\n",
       "      <td>1.157742</td>\n",
       "      <td>13.556787</td>\n",
       "      <td>1.64103</td>\n",
       "    </tr>\n",
       "    <tr>\n",
       "      <th>std</th>\n",
       "      <td>0.391502</td>\n",
       "      <td>0.497918</td>\n",
       "      <td>0.418803</td>\n",
       "      <td>0.498958</td>\n",
       "      <td>0.499996</td>\n",
       "      <td>0.449627</td>\n",
       "      <td>1.629553</td>\n",
       "      <td>1.257017</td>\n",
       "      <td>0.990419</td>\n",
       "      <td>0.804677</td>\n",
       "      <td>1.068777</td>\n",
       "      <td>1.117260</td>\n",
       "      <td>0.971106</td>\n",
       "      <td>5.694645</td>\n",
       "      <td>1.40692</td>\n",
       "    </tr>\n",
       "    <tr>\n",
       "      <th>min</th>\n",
       "      <td>0.000000</td>\n",
       "      <td>0.000000</td>\n",
       "      <td>0.000000</td>\n",
       "      <td>0.000000</td>\n",
       "      <td>0.000000</td>\n",
       "      <td>0.000000</td>\n",
       "      <td>0.000000</td>\n",
       "      <td>0.000000</td>\n",
       "      <td>0.000000</td>\n",
       "      <td>0.000000</td>\n",
       "      <td>0.000000</td>\n",
       "      <td>0.000000</td>\n",
       "      <td>0.000000</td>\n",
       "      <td>1.000000</td>\n",
       "      <td>0.00000</td>\n",
       "    </tr>\n",
       "    <tr>\n",
       "      <th>25%</th>\n",
       "      <td>1.000000</td>\n",
       "      <td>0.000000</td>\n",
       "      <td>0.000000</td>\n",
       "      <td>0.000000</td>\n",
       "      <td>0.000000</td>\n",
       "      <td>0.000000</td>\n",
       "      <td>2.000000</td>\n",
       "      <td>3.000000</td>\n",
       "      <td>1.000000</td>\n",
       "      <td>1.000000</td>\n",
       "      <td>1.000000</td>\n",
       "      <td>0.000000</td>\n",
       "      <td>0.000000</td>\n",
       "      <td>10.000000</td>\n",
       "      <td>0.00000</td>\n",
       "    </tr>\n",
       "    <tr>\n",
       "      <th>50%</th>\n",
       "      <td>1.000000</td>\n",
       "      <td>0.000000</td>\n",
       "      <td>0.000000</td>\n",
       "      <td>0.000000</td>\n",
       "      <td>0.000000</td>\n",
       "      <td>1.000000</td>\n",
       "      <td>3.000000</td>\n",
       "      <td>3.000000</td>\n",
       "      <td>2.000000</td>\n",
       "      <td>1.000000</td>\n",
       "      <td>2.000000</td>\n",
       "      <td>1.000000</td>\n",
       "      <td>1.000000</td>\n",
       "      <td>14.000000</td>\n",
       "      <td>1.00000</td>\n",
       "    </tr>\n",
       "    <tr>\n",
       "      <th>75%</th>\n",
       "      <td>1.000000</td>\n",
       "      <td>1.000000</td>\n",
       "      <td>0.000000</td>\n",
       "      <td>1.000000</td>\n",
       "      <td>1.000000</td>\n",
       "      <td>1.000000</td>\n",
       "      <td>4.000000</td>\n",
       "      <td>4.000000</td>\n",
       "      <td>2.000000</td>\n",
       "      <td>2.000000</td>\n",
       "      <td>2.000000</td>\n",
       "      <td>2.000000</td>\n",
       "      <td>2.000000</td>\n",
       "      <td>18.000000</td>\n",
       "      <td>3.00000</td>\n",
       "    </tr>\n",
       "    <tr>\n",
       "      <th>max</th>\n",
       "      <td>1.000000</td>\n",
       "      <td>1.000000</td>\n",
       "      <td>1.000000</td>\n",
       "      <td>1.000000</td>\n",
       "      <td>1.000000</td>\n",
       "      <td>1.000000</td>\n",
       "      <td>8.000000</td>\n",
       "      <td>5.000000</td>\n",
       "      <td>3.000000</td>\n",
       "      <td>3.000000</td>\n",
       "      <td>4.000000</td>\n",
       "      <td>3.000000</td>\n",
       "      <td>3.000000</td>\n",
       "      <td>28.000000</td>\n",
       "      <td>4.00000</td>\n",
       "    </tr>\n",
       "  </tbody>\n",
       "</table>\n",
       "</div>"
      ],
      "text/plain": [
       "            Credit          WIC      WICcash        SFMNP         SNAP  \\\n",
       "count  5864.000000  5864.000000  5864.000000  5864.000000  5864.000000   \n",
       "mean      0.811050     0.453956     0.226808     0.467087     0.493179   \n",
       "std       0.391502     0.497918     0.418803     0.498958     0.499996   \n",
       "min       0.000000     0.000000     0.000000     0.000000     0.000000   \n",
       "25%       1.000000     0.000000     0.000000     0.000000     0.000000   \n",
       "50%       1.000000     0.000000     0.000000     0.000000     0.000000   \n",
       "75%       1.000000     1.000000     0.000000     1.000000     1.000000   \n",
       "max       1.000000     1.000000     1.000000     1.000000     1.000000   \n",
       "\n",
       "       has_website      Produce  Confectionary    Household        Dairy  \\\n",
       "count  5864.000000  5864.000000    5864.000000  5864.000000  5864.000000   \n",
       "mean      0.718793     3.550819       3.105218     1.511767     1.289563   \n",
       "std       0.449627     1.629553       1.257017     0.990419     0.804677   \n",
       "min       0.000000     0.000000       0.000000     0.000000     0.000000   \n",
       "25%       0.000000     2.000000       3.000000     1.000000     1.000000   \n",
       "50%       1.000000     3.000000       3.000000     2.000000     1.000000   \n",
       "75%       1.000000     4.000000       4.000000     2.000000     2.000000   \n",
       "max       1.000000     8.000000       5.000000     3.000000     3.000000   \n",
       "\n",
       "            Plants         Meat        Other  product_count  alt_pay_methods  \n",
       "count  5864.000000  5864.000000  5864.000000    5864.000000       5864.00000  \n",
       "mean      1.667633     1.274045     1.157742      13.556787          1.64103  \n",
       "std       1.068777     1.117260     0.971106       5.694645          1.40692  \n",
       "min       0.000000     0.000000     0.000000       1.000000          0.00000  \n",
       "25%       1.000000     0.000000     0.000000      10.000000          0.00000  \n",
       "50%       2.000000     1.000000     1.000000      14.000000          1.00000  \n",
       "75%       2.000000     2.000000     2.000000      18.000000          3.00000  \n",
       "max       4.000000     3.000000     3.000000      28.000000          4.00000  "
      ]
     },
     "execution_count": 4,
     "metadata": {},
     "output_type": "execute_result"
    }
   ],
   "source": [
    "print('shape')\n",
    "print(df.shape)\n",
    "print('-' *40)\n",
    "df.describe()"
   ]
  },
  {
   "cell_type": "code",
   "execution_count": 5,
   "metadata": {},
   "outputs": [
    {
     "data": {
      "text/plain": [
       "0    1753\n",
       "1    1242\n",
       "3    1179\n",
       "2     958\n",
       "4     732\n",
       "Name: alt_pay_methods, dtype: int64"
      ]
     },
     "execution_count": 5,
     "metadata": {},
     "output_type": "execute_result"
    }
   ],
   "source": [
    "df['alt_pay_methods'].value_counts()"
   ]
  },
  {
   "cell_type": "markdown",
   "metadata": {},
   "source": [
    "# Visualization"
   ]
  },
  {
   "cell_type": "code",
   "execution_count": 30,
   "metadata": {},
   "outputs": [
    {
     "data": {
      "image/png": "[encoded data removed]",
      "text/plain": [
       "<Figure size 842.4x595.44 with 1 Axes>"
      ]
     },
     "metadata": {},
     "output_type": "display_data"
    }
   ],
   "source": [
    "x = df['product_count']\n",
    "\n",
    "sns.set_color_codes()\n",
    "ax = sns.distplot(x, color=\"orange\")\n",
    "plt.title('Distribution of Product Count')\n",
    "plt.ylabel('Distribution')\n",
    "plt.xlabel('Product Count')\n",
    "plt.show()"
   ]
  },
  {
   "cell_type": "code",
   "execution_count": 32,
   "metadata": {},
   "outputs": [
    {
     "data": {
      "image/png": "[encoded data removed]",
      "text/plain": [
       "<Figure size 842.4x595.44 with 1 Axes>"
      ]
     },
     "metadata": {},
     "output_type": "display_data"
    }
   ],
   "source": [
    "sns.set(rc={'figure.figsize':(11.7,8.27)})\n",
    "ax = sns.barplot(x=\"alt_pay_methods\", y=\"product_count\", hue=\"has_website\", data=df, palette=\"YlOrBr\")\n",
    "plt.title('Alternative Payment Methods to Product Count')\n",
    "plt.ylabel('Product Count')\n",
    "plt.xlabel('Number of Alternative Payment Methods')\n",
    "#plt.legend(labels=['Has Website'])\n",
    "plt.show()"
   ]
  },
  {
   "cell_type": "markdown",
   "metadata": {},
   "source": [
    "##### Seems that Markets with websites tend to have more variety; but that the amount of accepted payments doesn't have a high impact"
   ]
  },
  {
   "cell_type": "code",
   "execution_count": 75,
   "metadata": {},
   "outputs": [
    {
     "data": {
      "text/plain": [
       "Index(['MarketName', 'State', 'Credit', 'WIC', 'WICcash', 'SFMNP', 'SNAP',\n",
       "       'has_website', 'Produce', 'Confectionary', 'Household', 'Dairy',\n",
       "       'Plants', 'Meat', 'Other', 'product_count', 'alt_pay_methods'],\n",
       "      dtype='object')"
      ]
     },
     "execution_count": 75,
     "metadata": {},
     "output_type": "execute_result"
    }
   ],
   "source": [
    "df.columns"
   ]
  },
  {
   "cell_type": "code",
   "execution_count": 41,
   "metadata": {},
   "outputs": [
    {
     "data": {
      "image/png": "[encoded data removed]",
      "text/plain": [
       "<Figure size 842.4x595.44 with 1 Axes>"
      ]
     },
     "metadata": {},
     "output_type": "display_data"
    }
   ],
   "source": [
    "sns.set(rc={'figure.figsize':(11.7,8.27)})\n",
    "ax = sns.barplot(x=\"Credit\", y=\"alt_pay_methods\", hue=\"product_count\", data=df, palette=\"YlOrBr\")\n",
    "plt.title('Alternative Payment Methods to Product Count')\n",
    "plt.ylabel('Alternative Payment Methods')\n",
    "plt.xlabel('Credit')\n",
    "plt.show()"
   ]
  },
  {
   "cell_type": "code",
   "execution_count": 43,
   "metadata": {},
   "outputs": [],
   "source": [
    "state_list = ['Vermont', 'Ohio', 'Missouri', 'New York', 'Tennessee', 'Delaware',\n",
    "       'District of Columbia', 'Oregon', 'Minnesota', 'Virginia',\n",
    "       'Pennsylvania', 'Nebraska', 'Illinois', 'Florida', 'Washington',\n",
    "       'Kansas', 'New Jersey', 'Utah', 'Maryland', 'Indiana', 'Nevada',\n",
    "       'Alabama', 'Iowa', 'South Carolina', 'Wisconsin', 'Massachusetts',\n",
    "       'Louisiana', 'New Mexico', 'Oklahoma', 'Michigan', 'Georgia',\n",
    "       'North Carolina', 'Arizona', 'California', 'Texas', 'Colorado',\n",
    "       'West Virginia', 'Idaho', 'Montana', 'North Dakota', 'Kentucky',\n",
    "       'Rhode Island', 'Arkansas', 'Mississippi', 'Maine', 'Connecticut',\n",
    "       'New Hampshire', 'Wyoming', 'South Dakota']"
   ]
  },
  {
   "cell_type": "code",
   "execution_count": null,
   "metadata": {},
   "outputs": [],
   "source": []
  }
 ],
 "metadata": {
  "kernelspec": {
   "display_name": "Python [conda env:learn-env] *",
   "language": "python",
   "name": "conda-env-learn-env-py"
  },
  "language_info": {
   "codemirror_mode": {
    "name": "ipython",
    "version": 3
   },
   "file_extension": ".py",
   "mimetype": "text/x-python",
   "name": "python",
   "nbconvert_exporter": "python",
   "pygments_lexer": "ipython3",
   "version": "3.6.9"
  }
 },
 "nbformat": 4,
 "nbformat_minor": 2
}
