{
 "cells": [
  {
   "cell_type": "code",
   "execution_count": 1,
   "metadata": {},
   "outputs": [],
   "source": [
    "# add state as a number"
   ]
  },
  {
   "cell_type": "code",
   "execution_count": 1,
   "metadata": {},
   "outputs": [],
   "source": [
    "import pandas as pd\n",
    "import numpy as np\n",
    "\n",
    "import matplotlib.pyplot as plt\n",
    "from sklearn.model_selection import train_test_split\n",
    "from sklearn.metrics import accuracy_score, confusion_matrix, classification_report\n",
    "from sklearn.tree import DecisionTreeClassifier\n",
    "from sklearn.ensemble import BaggingClassifier, RandomForestClassifier\n",
    "\n",
    "from sklearn.preprocessing import LabelEncoder\n",
    "from sklearn.preprocessing import OneHotEncoder"
   ]
  },
  {
   "cell_type": "code",
   "execution_count": 2,
   "metadata": {},
   "outputs": [],
   "source": [
    "market_df = pd.read_csv('data/cleaned_market_df.csv')\n",
    "\n",
    "drop_cols = ['MarketName', 'street', 'city', 'zip', 'product_count', \n",
    "             'Credit', 'WIC', 'WICcash', 'SFMNP', 'SNAP', 'has_website',\n",
    "             'Produce', 'Confectionary', 'Household', 'Dairy',\n",
    "             'Plants', 'Meat', 'Other', 'alt_pay_methods']\n",
    "\n",
    "market_df.drop(columns=drop_cols, axis=1, inplace=True)"
   ]
  },
  {
   "cell_type": "code",
   "execution_count": 3,
   "metadata": {},
   "outputs": [],
   "source": [
    "county_df = pd.read_csv('data/cleaned_county_df.csv')\n",
    "county_df.rename(columns={'county':'County'}, inplace=True)"
   ]
  },
  {
   "cell_type": "code",
   "execution_count": 4,
   "metadata": {},
   "outputs": [
    {
     "data": {
      "text/plain": [
       "1.0    5532\n",
       "0.0    1352\n",
       "Name: Has Market, dtype: int64"
      ]
     },
     "execution_count": 4,
     "metadata": {},
     "output_type": "execute_result"
    }
   ],
   "source": [
    "df = county_df.merge(market_df, how='left', on=[\"County\", \"State\"])\n",
    "df.sort_values(['State'], inplace=True)\n",
    "df.fillna(0, inplace=True)\n",
    "df['Has Market'].value_counts()"
   ]
  },
  {
   "cell_type": "code",
   "execution_count": 5,
   "metadata": {},
   "outputs": [],
   "source": [
    "import us\n",
    "\n",
    "# list of all the unique states in the data set\n",
    "states = list(df['State'])\n",
    "\n",
    "states_coded = []\n",
    "\n",
    "# obtains the FIPS code from state name\n",
    "for state in states:\n",
    "    states_coded.append(us.states.lookup(state).abbr)"
   ]
  },
  {
   "cell_type": "code",
   "execution_count": 6,
   "metadata": {},
   "outputs": [],
   "source": [
    "df['state code']=states_coded\n",
    "df['County'] = df['state code'] + ', ' + df['County']\n"
   ]
  },
  {
   "cell_type": "code",
   "execution_count": 7,
   "metadata": {},
   "outputs": [
    {
     "data": {
      "text/plain": [
       "County                     0\n",
       "State                      0\n",
       "per capita income          0\n",
       "median household income    0\n",
       "median family income       0\n",
       "population                 0\n",
       "number of households       0\n",
       "x                          0\n",
       "y                          0\n",
       "Has Market                 0\n",
       "state code                 0\n",
       "dtype: int64"
      ]
     },
     "execution_count": 7,
     "metadata": {},
     "output_type": "execute_result"
    }
   ],
   "source": [
    "df.isna().sum()"
   ]
  },
  {
   "cell_type": "code",
   "execution_count": 8,
   "metadata": {},
   "outputs": [],
   "source": [
    "make_labels = LabelEncoder()\n",
    "df['state_nums'] = make_labels.fit_transform(df['State'])\n",
    "df['state_nums'] = df['state_nums'].apply(lambda x: x + 1)"
   ]
  },
  {
   "cell_type": "code",
   "execution_count": 9,
   "metadata": {},
   "outputs": [],
   "source": [
    "df.drop(columns=['state code'], inplace=True)"
   ]
  },
  {
   "cell_type": "code",
   "execution_count": 10,
   "metadata": {},
   "outputs": [],
   "source": [
    "df.to_csv('data/model_df.csv', index=False)"
   ]
  },
  {
   "cell_type": "code",
   "execution_count": 11,
   "metadata": {},
   "outputs": [
    {
     "data": {
      "text/html": [
       "<div>\n",
       "<style scoped>\n",
       "    .dataframe tbody tr th:only-of-type {\n",
       "        vertical-align: middle;\n",
       "    }\n",
       "\n",
       "    .dataframe tbody tr th {\n",
       "        vertical-align: top;\n",
       "    }\n",
       "\n",
       "    .dataframe thead th {\n",
       "        text-align: right;\n",
       "    }\n",
       "</style>\n",
       "<table border=\"1\" class=\"dataframe\">\n",
       "  <thead>\n",
       "    <tr style=\"text-align: right;\">\n",
       "      <th></th>\n",
       "      <th>County</th>\n",
       "      <th>State</th>\n",
       "      <th>per capita income</th>\n",
       "      <th>median household income</th>\n",
       "      <th>median family income</th>\n",
       "      <th>population</th>\n",
       "      <th>number of households</th>\n",
       "      <th>x</th>\n",
       "      <th>y</th>\n",
       "      <th>Has Market</th>\n",
       "      <th>state_nums</th>\n",
       "    </tr>\n",
       "  </thead>\n",
       "  <tbody>\n",
       "    <tr>\n",
       "      <th>5661</th>\n",
       "      <td>AL, Cullman</td>\n",
       "      <td>Alabama</td>\n",
       "      <td>20760</td>\n",
       "      <td>38847</td>\n",
       "      <td>47103</td>\n",
       "      <td>80499</td>\n",
       "      <td>31342</td>\n",
       "      <td>-86.844284</td>\n",
       "      <td>34.179405</td>\n",
       "      <td>1.0</td>\n",
       "      <td>1</td>\n",
       "    </tr>\n",
       "    <tr>\n",
       "      <th>6212</th>\n",
       "      <td>AL, Winston</td>\n",
       "      <td>Alabama</td>\n",
       "      <td>18995</td>\n",
       "      <td>32900</td>\n",
       "      <td>41113</td>\n",
       "      <td>24342</td>\n",
       "      <td>9489</td>\n",
       "      <td>-87.608253</td>\n",
       "      <td>34.231731</td>\n",
       "      <td>1.0</td>\n",
       "      <td>1</td>\n",
       "    </tr>\n",
       "    <tr>\n",
       "      <th>6214</th>\n",
       "      <td>AL, Clarke</td>\n",
       "      <td>Alabama</td>\n",
       "      <td>18979</td>\n",
       "      <td>29357</td>\n",
       "      <td>45518</td>\n",
       "      <td>25573</td>\n",
       "      <td>9631</td>\n",
       "      <td>-87.776726</td>\n",
       "      <td>31.709833</td>\n",
       "      <td>1.0</td>\n",
       "      <td>1</td>\n",
       "    </tr>\n",
       "    <tr>\n",
       "      <th>5244</th>\n",
       "      <td>AL, Henry</td>\n",
       "      <td>Alabama</td>\n",
       "      <td>21924</td>\n",
       "      <td>41650</td>\n",
       "      <td>54725</td>\n",
       "      <td>17308</td>\n",
       "      <td>7001</td>\n",
       "      <td>0.000000</td>\n",
       "      <td>0.000000</td>\n",
       "      <td>0.0</td>\n",
       "      <td>1</td>\n",
       "    </tr>\n",
       "    <tr>\n",
       "      <th>6251</th>\n",
       "      <td>AL, Franklin</td>\n",
       "      <td>Alabama</td>\n",
       "      <td>18888</td>\n",
       "      <td>36415</td>\n",
       "      <td>46536</td>\n",
       "      <td>31666</td>\n",
       "      <td>12437</td>\n",
       "      <td>-88.143646</td>\n",
       "      <td>34.439522</td>\n",
       "      <td>1.0</td>\n",
       "      <td>1</td>\n",
       "    </tr>\n",
       "  </tbody>\n",
       "</table>\n",
       "</div>"
      ],
      "text/plain": [
       "            County    State  per capita income  median household income  \\\n",
       "5661   AL, Cullman  Alabama              20760                    38847   \n",
       "6212   AL, Winston  Alabama              18995                    32900   \n",
       "6214    AL, Clarke  Alabama              18979                    29357   \n",
       "5244     AL, Henry  Alabama              21924                    41650   \n",
       "6251  AL, Franklin  Alabama              18888                    36415   \n",
       "\n",
       "      median family income  population  number of households          x  \\\n",
       "5661                 47103       80499                 31342 -86.844284   \n",
       "6212                 41113       24342                  9489 -87.608253   \n",
       "6214                 45518       25573                  9631 -87.776726   \n",
       "5244                 54725       17308                  7001   0.000000   \n",
       "6251                 46536       31666                 12437 -88.143646   \n",
       "\n",
       "              y  Has Market  state_nums  \n",
       "5661  34.179405         1.0           1  \n",
       "6212  34.231731         1.0           1  \n",
       "6214  31.709833         1.0           1  \n",
       "5244   0.000000         0.0           1  \n",
       "6251  34.439522         1.0           1  "
      ]
     },
     "execution_count": 11,
     "metadata": {},
     "output_type": "execute_result"
    }
   ],
   "source": [
    "df.head()"
   ]
  },
  {
   "cell_type": "markdown",
   "metadata": {},
   "source": [
    "# Feature Selection"
   ]
  },
  {
   "cell_type": "markdown",
   "metadata": {},
   "source": [
    "onehot_encoder = OneHotEncoder(sparse=False)\n",
    "state_arr = np.array(df['state_nums'])\n",
    "df['state_nums'] = onehot_encoder.fit_transform((state_arr).reshape(-1 , 1))\n",
    "df['state_nums'].value_counts()"
   ]
  },
  {
   "cell_type": "code",
   "execution_count": 12,
   "metadata": {},
   "outputs": [],
   "source": [
    "target = df['Has Market']\n",
    "data = df.drop(columns= ['County', 'Has Market', 'x', 'y', 'State'], axis=1)"
   ]
  },
  {
   "cell_type": "code",
   "execution_count": 13,
   "metadata": {},
   "outputs": [
    {
     "data": {
      "text/plain": [
       "per capita income          int64\n",
       "median household income    int64\n",
       "median family income       int64\n",
       "population                 int64\n",
       "number of households       int64\n",
       "state_nums                 int64\n",
       "dtype: object"
      ]
     },
     "execution_count": 13,
     "metadata": {},
     "output_type": "execute_result"
    }
   ],
   "source": [
    "data.dtypes"
   ]
  },
  {
   "cell_type": "code",
   "execution_count": 14,
   "metadata": {},
   "outputs": [],
   "source": [
    "data_train, data_test, target_train, target_test = train_test_split(data, target, \n",
    "                                                                    test_size = 0.25, random_state=123)"
   ]
  },
  {
   "cell_type": "code",
   "execution_count": 15,
   "metadata": {},
   "outputs": [
    {
     "data": {
      "text/plain": [
       "DecisionTreeClassifier(class_weight=None, criterion='gini', max_depth=5,\n",
       "                       max_features=None, max_leaf_nodes=None,\n",
       "                       min_impurity_decrease=0.0, min_impurity_split=None,\n",
       "                       min_samples_leaf=1, min_samples_split=2,\n",
       "                       min_weight_fraction_leaf=0.0, presort=False,\n",
       "                       random_state=None, splitter='best')"
      ]
     },
     "execution_count": 15,
     "metadata": {},
     "output_type": "execute_result"
    }
   ],
   "source": [
    "# Instantiate and fit a DecisionTreeClassifier\n",
    "tree_clf = DecisionTreeClassifier(criterion='gini', max_depth=5) \n",
    "tree_clf.fit(data_train, target_train)"
   ]
  },
  {
   "cell_type": "code",
   "execution_count": 16,
   "metadata": {},
   "outputs": [
    {
     "data": {
      "text/plain": [
       "array([0.027831  , 0.00608986, 0.02450599, 0.        , 0.83808164,\n",
       "       0.10349151])"
      ]
     },
     "execution_count": 16,
     "metadata": {},
     "output_type": "execute_result"
    }
   ],
   "source": [
    "# Feature importance\n",
    "tree_clf.feature_importances_"
   ]
  },
  {
   "cell_type": "code",
   "execution_count": 17,
   "metadata": {},
   "outputs": [
    {
     "data": {
      "image/png": "[encoded data removed]",
      "text/plain": [
       "<Figure size 576x576 with 1 Axes>"
      ]
     },
     "metadata": {
      "needs_background": "light"
     },
     "output_type": "display_data"
    }
   ],
   "source": [
    "def plot_feature_importances(model):\n",
    "    n_features = data_train.shape[1]\n",
    "    plt.figure(figsize=(8,8))\n",
    "    plt.barh(range(n_features), model.feature_importances_, align='center') \n",
    "    plt.yticks(np.arange(n_features), data_train.columns.values) \n",
    "    plt.xlabel('Feature importance')\n",
    "    plt.ylabel('Feature')\n",
    "\n",
    "plot_feature_importances(tree_clf)"
   ]
  },
  {
   "cell_type": "code",
   "execution_count": null,
   "metadata": {},
   "outputs": [],
   "source": []
  },
  {
   "cell_type": "code",
   "execution_count": null,
   "metadata": {},
   "outputs": [],
   "source": []
  }
 ],
 "metadata": {
  "kernelspec": {
   "display_name": "Python [conda env:learn-env] *",
   "language": "python",
   "name": "conda-env-learn-env-py"
  },
  "language_info": {
   "codemirror_mode": {
    "name": "ipython",
    "version": 3
   },
   "file_extension": ".py",
   "mimetype": "text/x-python",
   "name": "python",
   "nbconvert_exporter": "python",
   "pygments_lexer": "ipython3",
   "version": "3.6.9"
  }
 },
 "nbformat": 4,
 "nbformat_minor": 2
}
