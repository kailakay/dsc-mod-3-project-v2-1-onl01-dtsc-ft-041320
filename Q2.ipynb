{
 "cells": [
  {
   "cell_type": "markdown",
   "metadata": {},
   "source": [
    "# How do urban areas compare to rural areas in terms of accessibility(both to the product itself and to alternative payment methods)? "
   ]
  },
  {
   "cell_type": "code",
   "execution_count": 2,
   "metadata": {},
   "outputs": [
    {
     "name": "stderr",
     "output_type": "stream",
     "text": [
      "C:\\Users\\kekay\\anaconda3\\envs\\learn-env\\lib\\site-packages\\statsmodels\\tools\\_testing.py:19: FutureWarning: pandas.util.testing is deprecated. Use the functions in the public API at pandas.testing instead.\n",
      "  import pandas.util.testing as tm\n"
     ]
    }
   ],
   "source": [
    "import pandas as pd\n",
    "import matplotlib.pyplot as plt \n",
    "import seaborn as sns\n",
    "import numpy as np\n",
    "\n",
    "import plotly.express as px\n",
    "\n",
    "pd.set_option('display.max_columns', None)\n",
    "\n",
    "%matplotlib inline"
   ]
  },
  {
   "cell_type": "code",
   "execution_count": 3,
   "metadata": {},
   "outputs": [
    {
     "data": {
      "text/html": [
       "<div>\n",
       "<style scoped>\n",
       "    .dataframe tbody tr th:only-of-type {\n",
       "        vertical-align: middle;\n",
       "    }\n",
       "\n",
       "    .dataframe tbody tr th {\n",
       "        vertical-align: top;\n",
       "    }\n",
       "\n",
       "    .dataframe thead th {\n",
       "        text-align: right;\n",
       "    }\n",
       "</style>\n",
       "<table border=\"1\" class=\"dataframe\">\n",
       "  <thead>\n",
       "    <tr style=\"text-align: right;\">\n",
       "      <th></th>\n",
       "      <th>MarketName</th>\n",
       "      <th>State</th>\n",
       "      <th>Credit</th>\n",
       "      <th>WIC</th>\n",
       "      <th>WICcash</th>\n",
       "      <th>SFMNP</th>\n",
       "      <th>SNAP</th>\n",
       "      <th>has_website</th>\n",
       "      <th>Is market</th>\n",
       "      <th>Produce</th>\n",
       "      <th>Confectionary</th>\n",
       "      <th>Household</th>\n",
       "      <th>Dairy</th>\n",
       "      <th>Plants</th>\n",
       "      <th>Meat</th>\n",
       "      <th>Other</th>\n",
       "      <th>product_count</th>\n",
       "      <th>alt_pay_methods</th>\n",
       "    </tr>\n",
       "  </thead>\n",
       "  <tbody>\n",
       "    <tr>\n",
       "      <th>0</th>\n",
       "      <td>Caledonia Farmers Market Association - Danville</td>\n",
       "      <td>Vermont</td>\n",
       "      <td>1</td>\n",
       "      <td>1</td>\n",
       "      <td>0</td>\n",
       "      <td>1</td>\n",
       "      <td>0</td>\n",
       "      <td>1</td>\n",
       "      <td>1</td>\n",
       "      <td>5.0</td>\n",
       "      <td>4.0</td>\n",
       "      <td>3.0</td>\n",
       "      <td>2.0</td>\n",
       "      <td>2.0</td>\n",
       "      <td>2.0</td>\n",
       "      <td>2.0</td>\n",
       "      <td>20.0</td>\n",
       "      <td>2</td>\n",
       "    </tr>\n",
       "    <tr>\n",
       "      <th>1</th>\n",
       "      <td>Stearns Homestead Farmers' Market</td>\n",
       "      <td>Ohio</td>\n",
       "      <td>1</td>\n",
       "      <td>0</td>\n",
       "      <td>0</td>\n",
       "      <td>1</td>\n",
       "      <td>0</td>\n",
       "      <td>1</td>\n",
       "      <td>1</td>\n",
       "      <td>3.0</td>\n",
       "      <td>4.0</td>\n",
       "      <td>2.0</td>\n",
       "      <td>1.0</td>\n",
       "      <td>1.0</td>\n",
       "      <td>1.0</td>\n",
       "      <td>0.0</td>\n",
       "      <td>12.0</td>\n",
       "      <td>1</td>\n",
       "    </tr>\n",
       "    <tr>\n",
       "      <th>2</th>\n",
       "      <td>10th Steet Community Farmers Market</td>\n",
       "      <td>Missouri</td>\n",
       "      <td>1</td>\n",
       "      <td>0</td>\n",
       "      <td>0</td>\n",
       "      <td>0</td>\n",
       "      <td>0</td>\n",
       "      <td>0</td>\n",
       "      <td>1</td>\n",
       "      <td>3.0</td>\n",
       "      <td>3.0</td>\n",
       "      <td>2.0</td>\n",
       "      <td>1.0</td>\n",
       "      <td>1.0</td>\n",
       "      <td>2.0</td>\n",
       "      <td>1.0</td>\n",
       "      <td>13.0</td>\n",
       "      <td>0</td>\n",
       "    </tr>\n",
       "    <tr>\n",
       "      <th>3</th>\n",
       "      <td>112st Madison Avenue</td>\n",
       "      <td>New York</td>\n",
       "      <td>0</td>\n",
       "      <td>0</td>\n",
       "      <td>1</td>\n",
       "      <td>1</td>\n",
       "      <td>0</td>\n",
       "      <td>0</td>\n",
       "      <td>1</td>\n",
       "      <td>3.0</td>\n",
       "      <td>3.0</td>\n",
       "      <td>2.0</td>\n",
       "      <td>0.0</td>\n",
       "      <td>1.0</td>\n",
       "      <td>0.0</td>\n",
       "      <td>1.0</td>\n",
       "      <td>10.0</td>\n",
       "      <td>2</td>\n",
       "    </tr>\n",
       "    <tr>\n",
       "      <th>4</th>\n",
       "      <td>12 South Farmers Market</td>\n",
       "      <td>Tennessee</td>\n",
       "      <td>1</td>\n",
       "      <td>0</td>\n",
       "      <td>0</td>\n",
       "      <td>0</td>\n",
       "      <td>1</td>\n",
       "      <td>1</td>\n",
       "      <td>1</td>\n",
       "      <td>4.0</td>\n",
       "      <td>5.0</td>\n",
       "      <td>2.0</td>\n",
       "      <td>2.0</td>\n",
       "      <td>1.0</td>\n",
       "      <td>2.0</td>\n",
       "      <td>2.0</td>\n",
       "      <td>18.0</td>\n",
       "      <td>1</td>\n",
       "    </tr>\n",
       "  </tbody>\n",
       "</table>\n",
       "</div>"
      ],
      "text/plain": [
       "                                         MarketName      State  Credit  WIC  \\\n",
       "0   Caledonia Farmers Market Association - Danville    Vermont       1    1   \n",
       "1                 Stearns Homestead Farmers' Market       Ohio       1    0   \n",
       "2               10th Steet Community Farmers Market   Missouri       1    0   \n",
       "3                              112st Madison Avenue   New York       0    0   \n",
       "4                           12 South Farmers Market  Tennessee       1    0   \n",
       "\n",
       "   WICcash  SFMNP  SNAP  has_website  Is market  Produce  Confectionary  \\\n",
       "0        0      1     0            1          1      5.0            4.0   \n",
       "1        0      1     0            1          1      3.0            4.0   \n",
       "2        0      0     0            0          1      3.0            3.0   \n",
       "3        1      1     0            0          1      3.0            3.0   \n",
       "4        0      0     1            1          1      4.0            5.0   \n",
       "\n",
       "   Household  Dairy  Plants  Meat  Other  product_count  alt_pay_methods  \n",
       "0        3.0    2.0     2.0   2.0    2.0           20.0                2  \n",
       "1        2.0    1.0     1.0   1.0    0.0           12.0                1  \n",
       "2        2.0    1.0     1.0   2.0    1.0           13.0                0  \n",
       "3        2.0    0.0     1.0   0.0    1.0           10.0                2  \n",
       "4        2.0    2.0     1.0   2.0    2.0           18.0                1  "
      ]
     },
     "execution_count": 3,
     "metadata": {},
     "output_type": "execute_result"
    }
   ],
   "source": [
    "df = pd.read_csv('data/cleaned_market_df.csv')\n",
    "drop_cols = ['street', 'city', 'County', 'zip', 'x', 'y']\n",
    "df.drop(columns=drop_cols, axis=1, inplace=True)\n",
    "df.head()"
   ]
  },
  {
   "cell_type": "code",
   "execution_count": null,
   "metadata": {},
   "outputs": [],
   "source": []
  },
  {
   "cell_type": "markdown",
   "metadata": {},
   "source": [
    "# States"
   ]
  },
  {
   "cell_type": "code",
   "execution_count": 4,
   "metadata": {},
   "outputs": [],
   "source": [
    "state_list = ['Vermont', 'Ohio', 'Missouri', 'New York', 'Tennessee', 'Delaware',\n",
    "       'District of Columbia', 'Oregon', 'Minnesota', 'Virginia',\n",
    "       'Pennsylvania', 'Nebraska', 'Illinois', 'Florida', 'Washington',\n",
    "       'Kansas', 'New Jersey', 'Utah', 'Maryland', 'Indiana', 'Nevada',\n",
    "       'Alabama', 'Iowa', 'South Carolina', 'Wisconsin', 'Massachusetts',\n",
    "       'Louisiana', 'New Mexico', 'Oklahoma', 'Michigan', 'Georgia',\n",
    "       'North Carolina', 'Arizona', 'California', 'Texas', 'Colorado',\n",
    "       'West Virginia', 'Idaho', 'Montana', 'North Dakota', 'Kentucky',\n",
    "       'Rhode Island', 'Arkansas', 'Mississippi', 'Maine', 'Connecticut',\n",
    "       'New Hampshire', 'Wyoming', 'South Dakota']"
   ]
  },
  {
   "cell_type": "code",
   "execution_count": 6,
   "metadata": {},
   "outputs": [
    {
     "data": {
      "image/png": "[encoded data removed]",
      "text/plain": [
       "<Figure size 842.4x595.44 with 1 Axes>"
      ]
     },
     "metadata": {},
     "output_type": "display_data"
    }
   ],
   "source": [
    "sns.set(rc={'figure.figsize':(11.7,8.27)})\n",
    "\n",
    "sns.barplot(x=df['State'].value_counts()[0:25],y=df['State'].value_counts()[0:25].index,palette=\"YlOrBr\")\n",
    "plt.title('Farmers Markets Count by State: Top 25')\n",
    "plt.ylabel('State')\n",
    "plt.xlabel('Count')\n",
    "plt.show()"
   ]
  },
  {
   "cell_type": "code",
   "execution_count": null,
   "metadata": {},
   "outputs": [],
   "source": []
  }
 ],
 "metadata": {
  "kernelspec": {
   "display_name": "Python [conda env:learn-env] *",
   "language": "python",
   "name": "conda-env-learn-env-py"
  },
  "language_info": {
   "codemirror_mode": {
    "name": "ipython",
    "version": 3
   },
   "file_extension": ".py",
   "mimetype": "text/x-python",
   "name": "python",
   "nbconvert_exporter": "python",
   "pygments_lexer": "ipython3",
   "version": "3.6.9"
  }
 },
 "nbformat": 4,
 "nbformat_minor": 2
}
